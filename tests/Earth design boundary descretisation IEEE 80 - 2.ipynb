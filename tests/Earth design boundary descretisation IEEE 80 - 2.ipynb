{
 "cells": [
  {
   "cell_type": "code",
   "execution_count": 1,
   "id": "e514fa90",
   "metadata": {},
   "outputs": [
    {
     "name": "stdout",
     "output_type": "stream",
     "text": [
      "Using matplotlib backend: TkAgg\n"
     ]
    }
   ],
   "source": [
    "from math import sqrt, log, pi, ceil, floor\n",
    "\n",
    "import matplotlib.pyplot as plt\n",
    "plt.rcParams[\"font.family\"] = \"Ubuntu Mono\"\n",
    "plt.rcParams['font.size'] = 9\n",
    "\n",
    "%matplotlib auto\n",
    "\n",
    "from earthing import *"
   ]
  },
  {
   "cell_type": "code",
   "execution_count": 2,
   "id": "76f6960d",
   "metadata": {},
   "outputs": [],
   "source": [
    "# define i/p parameters\n",
    "radius = 0.025\n",
    "radius_rod = 0.016\n",
    "length = 7.5\n",
    "rho = 400\n",
    "xlim=(-5, 80)\n",
    "ylim=(-5, 80)\n",
    "zlim=(-10, 2)\n",
    "grid=(100,100)\n",
    "delta=2\n",
    "Ig = 1908\n",
    "\n",
    "# Define network\n",
    "network = Network(rho)\n",
    "network.add_mesh([0,0,-0.5], 70, 70, 11, 11, radius)\n",
    "for i in range(0,6):\n",
    "    network.add_rod([i*14,0,-0.6], radius_rod, length)\n",
    "for i in range(0,6):\n",
    "    network.add_rod([i*14,70,-0.6], radius_rod, length)\n",
    "for i in range(1,5):\n",
    "    network.add_rod([0,i*14,-0.6], radius_rod, length)\n",
    "for i in range(1,5):\n",
    "    network.add_rod([70,i*14,-0.6], radius_rod, length)"
   ]
  },
  {
   "cell_type": "code",
   "execution_count": 3,
   "id": "f0ca8f5a-542f-46f6-bb3f-082c967fde90",
   "metadata": {},
   "outputs": [
    {
     "name": "stderr",
     "output_type": "stream",
     "text": [
      "/home/eee/Projects/Earthing/tests/earthing/__init__.py:594: RuntimeWarning: divide by zero encountered in true_divide\n",
      "  COEF = self.rho/(4*pi*AA)*np.arctan(AA/ALPHA)\n"
     ]
    }
   ],
   "source": [
    "# Solve network\n",
    "network.generate_model_fast(delta)\n",
    "network.plot_geometry_3d(xlim=xlim, ylim=ylim, zlim=zlim, ground=True, ground_pot=False, current_distribution=False)"
   ]
  },
  {
   "cell_type": "code",
   "execution_count": 4,
   "id": "12619b8b-6073-41b1-ba04-9d0433166fa8",
   "metadata": {},
   "outputs": [
    {
     "name": "stdout",
     "output_type": "stream",
     "text": [
      "Value of earth resistance =  2.749  Ohm\n"
     ]
    }
   ],
   "source": [
    "network.solve_model()\n",
    "res = network.get_resistance()\n",
    "# display results\n",
    "print('Value of earth resistance = ', str(res),' Ohm')"
   ]
  },
  {
   "cell_type": "code",
   "execution_count": 13,
   "id": "9fbbb04d-2b79-4a7f-b1f4-110fdd6fe1d0",
   "metadata": {},
   "outputs": [],
   "source": [
    "network.solve_surface_potential_fast(Ig, grid=grid, xlim=xlim, ylim=ylim)\n",
    "network.plot_geometry_3d(xlim=xlim, ylim=ylim, zlim=zlim, ground=False, ground_pot=True)\n",
    "network.plot_surface_potential(xlim=xlim, ylim=ylim, grid_spacing=10)"
   ]
  },
  {
   "cell_type": "code",
   "execution_count": 6,
   "id": "a1475ac0-17ea-4e1c-89c6-7f064bdaf2f5",
   "metadata": {},
   "outputs": [
    {
     "data": {
      "text/plain": [
       "5245.092"
      ]
     },
     "execution_count": 6,
     "metadata": {},
     "output_type": "execute_result"
    }
   ],
   "source": [
    "network.gpr(Ig)"
   ]
  },
  {
   "cell_type": "code",
   "execution_count": 7,
   "id": "2ab66fe7-a7ad-4d0c-a2c1-3ec43a398f53",
   "metadata": {},
   "outputs": [
    {
     "data": {
      "text/plain": [
       "178.94516151884363"
      ]
     },
     "execution_count": 7,
     "metadata": {},
     "output_type": "execute_result"
    }
   ],
   "source": [
    "# Touch voltage at fence 2m away\n",
    "network.get_point_potential([0,-2,0], Ig) - network.get_point_potential([0,-3,0], Ig)"
   ]
  },
  {
   "cell_type": "code",
   "execution_count": 11,
   "id": "4a8849ee-cf9c-420a-85d8-230c135d66ad",
   "metadata": {
    "tags": []
   },
   "outputs": [
    {
     "name": "stdout",
     "output_type": "stream",
     "text": [
      "1321.273  @  [0.  0.1]\n"
     ]
    }
   ],
   "source": [
    "# Mesh voltage\n",
    "polygon = [(0,0),(10,0),(10,10),(0,10),(0,0)]\n",
    "Em_loc, Em = network.mesh_voltage(Ig, polygon, plot=True)\n",
    "print(Em, ' @ ', Em_loc)"
   ]
  },
  {
   "cell_type": "code",
   "execution_count": 14,
   "id": "4503c5da-cbbc-43bb-8ed9-20d8f448e374",
   "metadata": {},
   "outputs": [
    {
     "name": "stdout",
     "output_type": "stream",
     "text": [
      "395.435  @  [ 1.    -0.554]\n"
     ]
    }
   ],
   "source": [
    "# Step voltage\n",
    "polygon = [(-1,-1),(10+1,-1),(10+1,10+1),(-1,10+1),(-1,-1)]\n",
    "Es_loc, Es = network.step_voltage(Ig, polygon, plot=True)\n",
    "print(Es, ' @ ', Es_loc)"
   ]
  }
 ],
 "metadata": {
  "kernelspec": {
   "display_name": "Python 3 (ipykernel)",
   "language": "python",
   "name": "python3"
  },
  "language_info": {
   "codemirror_mode": {
    "name": "ipython",
    "version": 3
   },
   "file_extension": ".py",
   "mimetype": "text/x-python",
   "name": "python",
   "nbconvert_exporter": "python",
   "pygments_lexer": "ipython3",
   "version": "3.10.4"
  },
  "toc-autonumbering": false
 },
 "nbformat": 4,
 "nbformat_minor": 5
}
