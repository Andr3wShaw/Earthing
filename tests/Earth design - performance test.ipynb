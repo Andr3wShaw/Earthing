{
 "cells": [
  {
   "cell_type": "code",
   "execution_count": 1,
   "id": "e514fa90",
   "metadata": {},
   "outputs": [
    {
     "name": "stdout",
     "output_type": "stream",
     "text": [
      "Using matplotlib backend: TkAgg\n"
     ]
    }
   ],
   "source": [
    "from math import sqrt, log, pi, ceil, floor\n",
    "import time\n",
    "\n",
    "import matplotlib.pyplot as plt\n",
    "plt.rcParams[\"font.family\"] = \"Ubuntu Mono\"\n",
    "plt.rcParams['font.size'] = 9\n",
    "\n",
    "%matplotlib auto\n",
    "\n",
    "from earthing import *\n",
    "\n",
    "## Genric functions\n",
    "\n",
    "def show(var_name, var):\n",
    "    print(var_name, ' = ', round(var,2))"
   ]
  },
  {
   "cell_type": "code",
   "execution_count": 33,
   "id": "76f6960d",
   "metadata": {},
   "outputs": [],
   "source": [
    "# define i/p parameters\n",
    "strip_width = 0.025\n",
    "strip_depth = 0.005\n",
    "strip_eq_radius = (strip_width + strip_depth)*2/(2*pi)  # Horizontal earth strip\n",
    "radius_rod = 0.04  # Vertical earth strip for earth plate\n",
    "h = 0.1\n",
    "Lx = 10\n",
    "Ly = 5\n",
    "Lr = 1\n",
    "Nx = 2 \n",
    "Ny = 2\n",
    "Nr = 4\n",
    "Le = (Lx + Ly)*2\n",
    "S = (Lx + Ly)*2 / Lr\n",
    "\n",
    "rho = 100\n",
    "xlim=(-5, Lx+5)\n",
    "ylim=(-5, Ly+5)\n",
    "zlim=(-5, 2)\n",
    "grid=(25,25)\n",
    "delta=0.2\n",
    "Ig = 1000\n",
    "\n",
    "# Define network\n",
    "network = Network(rho)\n",
    "# network.add_strip([0, 0, -h], [L, 0, -h], strip_width)\n",
    "# network.add_mesh([0.1,0.1,-h], Lx, Ly, Nx, Ny, strip_width)\n",
    "network.add_rod([0,0,-h], radius_rod, Lr)\n",
    "# network.add_rod([Lx,0,-h], radius_rod, Lr)\n",
    "# network.add_rod([0,Ly,-h], radius_rod, Lr)\n",
    "# network.add_rod([Lx,Ly,-h], radius_rod, Lr)\n",
    "# network.add_plate([-1,-1,-3], rho, 0.6, 0.6, n_cap=[0,1,0], h_cap=[0,0,1])  # Vertical plate"
   ]
  },
  {
   "cell_type": "code",
   "execution_count": 34,
   "id": "f7457827-7c26-4b5b-a2b1-a7f5df6298c8",
   "metadata": {},
   "outputs": [
    {
     "name": "stdout",
     "output_type": "stream",
     "text": [
      "--- 0.005144596099853516 seconds ---\n",
      "--- 0.0025391578674316406 seconds ---\n"
     ]
    }
   ],
   "source": [
    "# Solve network\n",
    "start_time = time.time()\n",
    "network.generate_model(delta)\n",
    "print(\"--- %s seconds ---\" % (time.time() - start_time))\n",
    "A1 = np.copy(network.A)\n",
    "\n",
    "start_time = time.time()\n",
    "network.generate_model_fast(delta)\n",
    "print(\"--- %s seconds ---\" % (time.time() - start_time))\n",
    "A2 = network.A\n",
    "\n",
    "# network.plot_geometry_3d(xlim=xlim, ylim=ylim, zlim=zlim, ground=True, ground_pot=False, current_distribution=False)"
   ]
  },
  {
   "cell_type": "code",
   "execution_count": 35,
   "id": "707b22d9-7364-47c8-b00e-a717ff85ddbb",
   "metadata": {},
   "outputs": [
    {
     "name": "stdout",
     "output_type": "stream",
     "text": [
      "Value of earth resistance =  56.08424047030536  Ohm\n"
     ]
    }
   ],
   "source": [
    "network.solve_model()\n",
    "res = network.get_resistance()\n",
    "# display results\n",
    "print('Value of earth resistance = ', str(res),' Ohm')"
   ]
  },
  {
   "cell_type": "code",
   "execution_count": 37,
   "id": "2bc1b2f1-2e4e-45aa-b433-45a4b88cd59b",
   "metadata": {},
   "outputs": [
    {
     "data": {
      "text/plain": [
       "57.378065578753244"
      ]
     },
     "execution_count": 37,
     "metadata": {},
     "output_type": "execute_result"
    }
   ],
   "source": [
    "# R = resistance_grid_with_rods(rho, A=Lx*Ly, L_E=Le, L_R=Lr, N=Nr, S=S, d=radius_rod*2, w=strip_width)\n",
    "# R = resistance_grid(rho, A=Lx*Ly, L=Le, h=h) \n",
    "# Em, Es = e_mesh_step_grid(rho, Lx, Ly, Lr, Nx, Ny, Nr, strip_eq_radius*2, h, Ig)\n",
    "# print(R)\n",
    "# print(Em)\n",
    "# print(Es)\n",
    "\n",
    "resistance_pipe(rho, Lr, radius_rod*2)\n",
    "# resistance_strip(rho, L, h, strip_width)"
   ]
  },
  {
   "cell_type": "code",
   "execution_count": 38,
   "id": "c1073280-2364-43c7-b884-db4a8df2d6e9",
   "metadata": {},
   "outputs": [
    {
     "name": "stdout",
     "output_type": "stream",
     "text": [
      "--- 0.22649168968200684 seconds ---\n",
      "--- 0.0011734962463378906 seconds ---\n"
     ]
    }
   ],
   "source": [
    "start_time = time.time()\n",
    "network.solve_surface_potential(Ig, grid=grid, xlim=xlim, ylim=ylim)\n",
    "print(\"--- %s seconds ---\" % (time.time() - start_time))\n",
    "\n",
    "start_time = time.time()\n",
    "network.solve_surface_potential_fast(Ig, grid=grid, xlim=xlim, ylim=ylim)\n",
    "print(\"--- %s seconds ---\" % (time.time() - start_time))\n",
    "network.plot_geometry_3d(xlim=xlim, ylim=ylim, zlim=zlim, ground=False, ground_pot=True)"
   ]
  },
  {
   "cell_type": "code",
   "execution_count": 28,
   "id": "1e91614f-ee59-4848-ac41-aa528691a4fd",
   "metadata": {
    "scrolled": true
   },
   "outputs": [],
   "source": [
    "# network.plot_surface_potential(xlim=xlim, ylim=ylim)"
   ]
  },
  {
   "cell_type": "code",
   "execution_count": 39,
   "id": "f3672c00-ca97-4e3b-8ada-186db5966c06",
   "metadata": {},
   "outputs": [
    {
     "data": {
      "text/plain": [
       "56084.24047030536"
      ]
     },
     "execution_count": 39,
     "metadata": {},
     "output_type": "execute_result"
    }
   ],
   "source": [
    "network.gpr(Ig)"
   ]
  },
  {
   "cell_type": "code",
   "execution_count": 41,
   "id": "d24ed67e-b8c2-427d-b945-a165ee61b664",
   "metadata": {},
   "outputs": [
    {
     "data": {
      "text/plain": [
       "2367.3769208768726"
      ]
     },
     "execution_count": 41,
     "metadata": {},
     "output_type": "execute_result"
    }
   ],
   "source": [
    "# Touch voltage at fence 2m away\n",
    "network.get_point_potential([0,-2,0], Ig) - network.get_point_potential([0,-3,0], Ig)"
   ]
  },
  {
   "cell_type": "code",
   "execution_count": 42,
   "id": "68d7332d-d8ad-4ff6-8b7a-63987dd5885e",
   "metadata": {},
   "outputs": [
    {
     "data": {
      "text/plain": [
       "53258.3059661147"
      ]
     },
     "execution_count": 42,
     "metadata": {},
     "output_type": "execute_result"
    }
   ],
   "source": [
    "# Mesh voltage\n",
    "network.gpr(Ig) - network.get_point_potential([Lx/Nx,Ly/Ny,0], Ig)"
   ]
  },
  {
   "cell_type": "code",
   "execution_count": 43,
   "id": "a4a9b568-fb8f-4b50-a660-75f834fe6a7e",
   "metadata": {},
   "outputs": [
    {
     "data": {
      "text/plain": [
       "23146.33896766483"
      ]
     },
     "execution_count": 43,
     "metadata": {},
     "output_type": "execute_result"
    }
   ],
   "source": [
    "# Step voltage\n",
    "loc = np.array([-Lx, -Ly, 0])\n",
    "loc = loc/norm(loc)\n",
    "network.get_point_potential([0,0,0], Ig) - network.get_point_potential(loc, Ig)"
   ]
  },
  {
   "cell_type": "code",
   "execution_count": null,
   "id": "f0d2fcc2-583f-41ff-9bc5-8303a71cf8d1",
   "metadata": {},
   "outputs": [],
   "source": []
  }
 ],
 "metadata": {
  "kernelspec": {
   "display_name": "Python 3 (ipykernel)",
   "language": "python",
   "name": "python3"
  },
  "language_info": {
   "codemirror_mode": {
    "name": "ipython",
    "version": 3
   },
   "file_extension": ".py",
   "mimetype": "text/x-python",
   "name": "python",
   "nbconvert_exporter": "python",
   "pygments_lexer": "ipython3",
   "version": "3.10.4"
  },
  "toc-autonumbering": false
 },
 "nbformat": 4,
 "nbformat_minor": 5
}
