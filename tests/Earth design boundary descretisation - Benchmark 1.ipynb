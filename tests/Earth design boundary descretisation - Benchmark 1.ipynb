{
 "cells": [
  {
   "cell_type": "code",
   "execution_count": 1,
   "id": "e514fa90",
   "metadata": {},
   "outputs": [
    {
     "name": "stdout",
     "output_type": "stream",
     "text": [
      "Using matplotlib backend: TkAgg\n"
     ]
    }
   ],
   "source": [
    "from math import sqrt, log, pi, ceil, floor\n",
    "\n",
    "import matplotlib.pyplot as plt\n",
    "plt.rcParams[\"font.family\"] = \"Ubuntu Mono\"\n",
    "plt.rcParams['font.size'] = 9\n",
    "\n",
    "%matplotlib auto\n",
    "\n",
    "from earthing import *"
   ]
  },
  {
   "cell_type": "code",
   "execution_count": 2,
   "id": "76f6960d",
   "metadata": {},
   "outputs": [],
   "source": [
    "# define i/p parameters\n",
    "width = 0.009265*3.14/2\n",
    "radius_rod = 0.016\n",
    "length = 3.6\n",
    "rho = 140\n",
    "xlim=(-5, 80)\n",
    "ylim=(-5, 80)\n",
    "zlim=(-5, 2)\n",
    "grid=(50,50)\n",
    "delta=0.2\n",
    "Ig = 744.8\n",
    "\n",
    "# Define network\n",
    "network = Network(rho, Ig)\n",
    "network.add_mesh([0,0,-0.5], 70, 70, 6, 6, width)"
   ]
  },
  {
   "cell_type": "code",
   "execution_count": 3,
   "id": "483131d5-624a-4381-9539-7b6c20a581ef",
   "metadata": {},
   "outputs": [
    {
     "name": "stderr",
     "output_type": "stream",
     "text": [
      "/home/eee/Projects/Earthing/earthing/__init__.py:692: RuntimeWarning: divide by zero encountered in true_divide\n",
      "  COEF = self.rho/(4*pi*a)*np.arctan(a/ALPHA)\n"
     ]
    }
   ],
   "source": [
    "# Solve network\n",
    "network.generate_model_fast(delta)\n",
    "network.plot_geometry_3d(xlim=xlim, ylim=ylim, zlim=zlim, ground=True, ground_pot=False, current_distribution=False)"
   ]
  },
  {
   "cell_type": "code",
   "execution_count": 4,
   "id": "6e98dc59-bd74-437a-afe4-7d0a6d119d71",
   "metadata": {},
   "outputs": [
    {
     "name": "stdout",
     "output_type": "stream",
     "text": [
      "Value of earth resistance =  [1.04]  Ohm\n"
     ]
    }
   ],
   "source": [
    "network.solve_model()\n",
    "res = network.get_resistance()\n",
    "# display results\n",
    "print('Value of earth resistance = ', str(res),' Ohm')"
   ]
  },
  {
   "cell_type": "code",
   "execution_count": 5,
   "id": "4e7bde92-c55d-40b6-b9ee-d5ff0e0dffd8",
   "metadata": {},
   "outputs": [],
   "source": [
    "network.solve_surface_potential_fast(grid=grid, xlim=xlim, ylim=ylim)\n",
    "network.plot_geometry_3d(xlim=xlim, ylim=ylim, zlim=zlim, ground=False, ground_pot=True, current_distribution=True)\n",
    "network.plot_surface_potential(xlim=xlim, ylim=ylim, grid_spacing=10)"
   ]
  },
  {
   "cell_type": "code",
   "execution_count": 6,
   "id": "03431906-76fa-4f77-a023-c850730232d5",
   "metadata": {},
   "outputs": [
    {
     "data": {
      "text/plain": [
       "array([774.296])"
      ]
     },
     "execution_count": 6,
     "metadata": {},
     "output_type": "execute_result"
    }
   ],
   "source": [
    "network.gpr()"
   ]
  },
  {
   "cell_type": "code",
   "execution_count": 7,
   "id": "af923d3d-478e-44a4-bf18-108fd0171a03",
   "metadata": {},
   "outputs": [
    {
     "data": {
      "text/plain": [
       "array([190.32177878])"
      ]
     },
     "execution_count": 7,
     "metadata": {},
     "output_type": "execute_result"
    }
   ],
   "source": [
    "# Touch voltage at corner mesh\n",
    "network.gpr() - network.get_point_potential([0,0,0])"
   ]
  },
  {
   "cell_type": "code",
   "execution_count": 8,
   "id": "12747d41",
   "metadata": {},
   "outputs": [
    {
     "data": {
      "text/plain": [
       "array([226.52263707])"
      ]
     },
     "execution_count": 8,
     "metadata": {},
     "output_type": "execute_result"
    }
   ],
   "source": [
    "# Touch voltage at center of corner mesh\n",
    "network.gpr() - network.get_point_potential([7,7,0])"
   ]
  },
  {
   "cell_type": "code",
   "execution_count": 9,
   "id": "78521a14-2bde-4e94-bbfd-ddef54be9318",
   "metadata": {
    "tags": []
   },
   "outputs": [
    {
     "name": "stdout",
     "output_type": "stream",
     "text": [
      "235.766  @  [4.8 4.8]\n"
     ]
    }
   ],
   "source": [
    "# Mesh voltage\n",
    "polygon = [(0,0),(14,0),(14,14),(0,14),(0,0)]\n",
    "Em_loc, Em = network.mesh_voltage(polygon, plot=True)\n",
    "print(Em, ' @ ', Em_loc)"
   ]
  },
  {
   "cell_type": "code",
   "execution_count": 11,
   "id": "dfe2d20b-fd3f-4f7a-a51e-c56f914d6247",
   "metadata": {},
   "outputs": [
    {
     "name": "stdout",
     "output_type": "stream",
     "text": [
      "88.294  @  [-0.561 -0.632]\n"
     ]
    }
   ],
   "source": [
    "# Step voltage\n",
    "polygon = rectangle((-1,-1), 2, 2)\n",
    "Es_loc, Es = network.step_voltage(polygon, mesh_no=28, plot=True)\n",
    "print(Es, ' @ ', Es_loc)"
   ]
  },
  {
   "cell_type": "code",
   "execution_count": null,
   "id": "22f83e30",
   "metadata": {},
   "outputs": [],
   "source": []
  }
 ],
 "metadata": {
  "kernelspec": {
   "display_name": "Python 3 (ipykernel)",
   "language": "python",
   "name": "python3"
  },
  "language_info": {
   "codemirror_mode": {
    "name": "ipython",
    "version": 3
   },
   "file_extension": ".py",
   "mimetype": "text/x-python",
   "name": "python",
   "nbconvert_exporter": "python",
   "pygments_lexer": "ipython3",
   "version": "3.10.4"
  },
  "toc-autonumbering": false
 },
 "nbformat": 4,
 "nbformat_minor": 5
}
