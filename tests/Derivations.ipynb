{
 "cells": [
  {
   "cell_type": "code",
   "execution_count": 2,
   "id": "05039536-0c8c-4109-a3a6-1137d9fc3e0d",
   "metadata": {},
   "outputs": [
    {
     "data": {
      "text/latex": [
       "$\\displaystyle - \\frac{I \\rho \\left(\\log{\\left(x \\right)} - \\log{\\left(\\frac{l}{2} + x \\right)}\\right)}{2 \\pi l}$"
      ],
      "text/plain": [
       "-I*rho*(log(x) - log(l/2 + x))/(2*pi*l)"
      ]
     },
     "execution_count": 2,
     "metadata": {},
     "output_type": "execute_result"
    }
   ],
   "source": [
    "from IPython.core.interactiveshell import InteractiveShell\n",
    "InteractiveShell.ast_node_interactivity = \"all\"\n",
    "\n",
    "\n",
    "from sympy import *\n",
    "\n",
    "x, r, l, I, rho, d = var('x r l I rho d')\n",
    "\n",
    "A = 2*pi*x*l + 4*pi*x**2\n",
    "V = integrate(I*rho/A, (x, x,oo))\n",
    "V = V.simplify()\n",
    "V"
   ]
  },
  {
   "cell_type": "code",
   "execution_count": 3,
   "id": "603bb20e-6df5-405d-8886-e919bf736e28",
   "metadata": {},
   "outputs": [],
   "source": [
    "V_self = integrate(I*rho/A, (x, r, oo))"
   ]
  },
  {
   "cell_type": "code",
   "execution_count": 4,
   "id": "9ed3e90b-f31b-467b-96cf-cd1d526071a3",
   "metadata": {},
   "outputs": [
    {
     "data": {
      "text/latex": [
       "$\\displaystyle - \\frac{I \\rho \\left(\\log{\\left(r \\right)} - \\log{\\left(\\frac{l}{2} + r \\right)}\\right)}{2 \\pi l}$"
      ],
      "text/plain": [
       "-I*rho*(log(r) - log(l/2 + r))/(2*pi*l)"
      ]
     },
     "execution_count": 4,
     "metadata": {},
     "output_type": "execute_result"
    }
   ],
   "source": [
    "V_self.simplify()"
   ]
  },
  {
   "cell_type": "code",
   "execution_count": 5,
   "id": "4cf569af-20e2-4edf-97bd-89721c5c1868",
   "metadata": {},
   "outputs": [
    {
     "data": {
      "text/latex": [
       "$\\displaystyle \\log{\\left(\\frac{x}{\\frac{l}{2} + x} \\right)}$"
      ],
      "text/plain": [
       "log(x/(l/2 + x))"
      ]
     },
     "execution_count": 5,
     "metadata": {},
     "output_type": "execute_result"
    }
   ],
   "source": [
    "logcombine(log(x) - log(x+l/2), force=True)"
   ]
  },
  {
   "cell_type": "code",
   "execution_count": null,
   "id": "a27c2ffe-8170-4622-ae42-fcd2ae6a5de5",
   "metadata": {},
   "outputs": [],
   "source": []
  },
  {
   "cell_type": "code",
   "execution_count": 6,
   "id": "7d312dd5-e511-47fa-a1d4-72537e3bff2a",
   "metadata": {},
   "outputs": [
    {
     "data": {
      "text/latex": [
       "$\\displaystyle \\frac{I \\rho}{4 \\pi x}$"
      ],
      "text/plain": [
       "I*rho/(4*pi*x)"
      ]
     },
     "execution_count": 6,
     "metadata": {},
     "output_type": "execute_result"
    },
    {
     "data": {
      "text/latex": [
       "$\\displaystyle \\frac{I \\rho \\log{\\left(d \\right)}}{2 \\pi l} - \\frac{I \\rho \\log{\\left(x \\right)}}{2 \\pi l} + \\frac{I \\rho}{4 \\pi d}$"
      ],
      "text/plain": [
       "I*rho*log(d)/(2*pi*l) - I*rho*log(x)/(2*pi*l) + I*rho/(4*pi*d)"
      ]
     },
     "execution_count": 6,
     "metadata": {},
     "output_type": "execute_result"
    }
   ],
   "source": [
    "A1 = 2*pi*x*l\n",
    "A2 = 4*pi*x**2\n",
    "V1 = integrate(I*rho/A2, (x, x, oo))\n",
    "V2 = integrate(I*rho/A1, (x, x, d)) + integrate(I*rho/A2, (x, d, oo))\n",
    "V1\n",
    "V2"
   ]
  },
  {
   "cell_type": "code",
   "execution_count": null,
   "id": "11f24d7a-041a-415a-935c-313b85c90446",
   "metadata": {},
   "outputs": [],
   "source": []
  }
 ],
 "metadata": {
  "kernelspec": {
   "display_name": "Python 3 (ipykernel)",
   "language": "python",
   "name": "python3"
  },
  "language_info": {
   "codemirror_mode": {
    "name": "ipython",
    "version": 3
   },
   "file_extension": ".py",
   "mimetype": "text/x-python",
   "name": "python",
   "nbconvert_exporter": "python",
   "pygments_lexer": "ipython3",
   "version": "3.10.4"
  }
 },
 "nbformat": 4,
 "nbformat_minor": 5
}
