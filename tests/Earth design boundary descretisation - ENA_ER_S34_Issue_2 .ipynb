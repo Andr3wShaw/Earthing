{
 "cells": [
  {
   "cell_type": "code",
   "execution_count": 1,
   "id": "e514fa90",
   "metadata": {},
   "outputs": [
    {
     "name": "stdout",
     "output_type": "stream",
     "text": [
      "Using matplotlib backend: TkAgg\n"
     ]
    }
   ],
   "source": [
    "from math import sqrt, log, pi, ceil, floor\n",
    "\n",
    "import matplotlib.pyplot as plt\n",
    "plt.rcParams[\"font.family\"] = \"Ubuntu Mono\"\n",
    "plt.rcParams['font.size'] = 9\n",
    "\n",
    "%matplotlib auto\n",
    "\n",
    "from earthing import *"
   ]
  },
  {
   "cell_type": "code",
   "execution_count": 2,
   "id": "76f6960d",
   "metadata": {},
   "outputs": [],
   "source": [
    "# define i/p parameters\n",
    "radius = 0.0138\n",
    "radius_rod = 0.016\n",
    "length = 3.6\n",
    "rho = 75\n",
    "xlim=(-5, 35)\n",
    "ylim=(-5, 25)\n",
    "zlim=(-5, 2)\n",
    "grid = (100,100)\n",
    "delta=0.5\n",
    "Ig = 1477\n",
    "\n",
    "# Define network\n",
    "network = Network(rho)\n",
    "# network.add_strip([0, 0, -depth], [0, length, -depth], radius)\n",
    "network.add_mesh([0,0,-0.6], 30, 20, 2, 4, radius)\n",
    "network.add_rod([0,0,-0.7], radius_rod, length)\n",
    "network.add_rod([10,0,-0.7], radius_rod, length)\n",
    "network.add_rod([20,0,-0.7], radius_rod, length)\n",
    "network.add_rod([30,0,-0.7], radius_rod, length)\n",
    "network.add_rod([0,20,-0.7], radius_rod, length)\n",
    "network.add_rod([10,20,-0.7], radius_rod, length)\n",
    "network.add_rod([20,20,-0.7], radius_rod, length)\n",
    "network.add_rod([30,20,-0.7], radius_rod, length)\n",
    "network.add_rod([0,10,-0.7], radius_rod, length)\n",
    "network.add_rod([30,10,-0.7], radius_rod, length)"
   ]
  },
  {
   "cell_type": "code",
   "execution_count": 3,
   "id": "f19d1a91-1bce-48e1-a0bb-60b65419d932",
   "metadata": {},
   "outputs": [
    {
     "name": "stderr",
     "output_type": "stream",
     "text": [
      "/home/eee/Desktop/Earthing/earthing/__init__.py:543: RuntimeWarning: divide by zero encountered in true_divide\n",
      "  COEF = self.rho/(4*pi*AA)*np.arctan(AA/ALPHA)\n"
     ]
    }
   ],
   "source": [
    "# Solve network\n",
    "network.generate_model_fast(delta)\n",
    "network.plot_geometry_3d(xlim=xlim, ylim=ylim, zlim=zlim, ground=True, ground_pot=False, current_distribution=False)"
   ]
  },
  {
   "cell_type": "code",
   "execution_count": 4,
   "id": "73747f9c-22c0-41ea-a7c0-e57b15938c84",
   "metadata": {},
   "outputs": [
    {
     "name": "stdout",
     "output_type": "stream",
     "text": [
      "Value of earth resistance =  1.6001565757708265  Ohm\n"
     ]
    }
   ],
   "source": [
    "network.solve_model()\n",
    "res = network.get_resistance()\n",
    "# display results\n",
    "print('Value of earth resistance = ', str(res),' Ohm')"
   ]
  },
  {
   "cell_type": "code",
   "execution_count": 10,
   "id": "2829caa9-771f-4879-b709-f94510013982",
   "metadata": {},
   "outputs": [],
   "source": [
    "network.solve_surface_potential_fast(Ig, grid=grid, xlim=xlim, ylim=ylim)\n",
    "network.plot_geometry_3d(xlim=xlim, ylim=ylim, zlim=zlim, ground=False, ground_pot=True)\n",
    "network.plot_surface_potential(xlim=xlim, ylim=ylim)"
   ]
  },
  {
   "cell_type": "code",
   "execution_count": 6,
   "id": "bac55bde-4989-4bd1-81ce-aa14a75e8d03",
   "metadata": {},
   "outputs": [
    {
     "data": {
      "text/plain": [
       "2363.431262413511"
      ]
     },
     "execution_count": 6,
     "metadata": {},
     "output_type": "execute_result"
    }
   ],
   "source": [
    "network.gpr(Ig)"
   ]
  },
  {
   "cell_type": "code",
   "execution_count": 7,
   "id": "0cb73ee0-a5ff-43a9-b462-465ae9140034",
   "metadata": {},
   "outputs": [
    {
     "data": {
      "text/plain": [
       "920.5158304432664"
      ]
     },
     "execution_count": 7,
     "metadata": {},
     "output_type": "execute_result"
    }
   ],
   "source": [
    "# Mesh voltage\n",
    "network.gpr(Ig) - network.get_point_potential([30/3/2, 20/2,0], Ig)"
   ]
  },
  {
   "cell_type": "code",
   "execution_count": 8,
   "id": "d2308e91-9613-4f9e-b134-ce7f4651e59c",
   "metadata": {},
   "outputs": [
    {
     "data": {
      "text/plain": [
       "255.2625662996254"
      ]
     },
     "execution_count": 8,
     "metadata": {},
     "output_type": "execute_result"
    }
   ],
   "source": [
    "# Step voltage\n",
    "loc = np.array([-30, -20, 0])\n",
    "loc = loc/norm(loc)\n",
    "network.get_point_potential([0,0,0], Ig) - network.get_point_potential(loc, Ig)"
   ]
  },
  {
   "cell_type": "code",
   "execution_count": null,
   "id": "5207132a-5b29-48d0-95e9-03507005d5a1",
   "metadata": {},
   "outputs": [],
   "source": []
  }
 ],
 "metadata": {
  "kernelspec": {
   "display_name": "Python 3 (ipykernel)",
   "language": "python",
   "name": "python3"
  },
  "language_info": {
   "codemirror_mode": {
    "name": "ipython",
    "version": 3
   },
   "file_extension": ".py",
   "mimetype": "text/x-python",
   "name": "python",
   "nbconvert_exporter": "python",
   "pygments_lexer": "ipython3",
   "version": "3.10.4"
  },
  "toc-autonumbering": false
 },
 "nbformat": 4,
 "nbformat_minor": 5
}
