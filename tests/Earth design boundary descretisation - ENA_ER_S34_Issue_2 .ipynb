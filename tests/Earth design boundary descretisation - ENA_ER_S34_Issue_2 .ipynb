{
 "cells": [
  {
   "cell_type": "code",
   "execution_count": 1,
   "id": "e514fa90",
   "metadata": {},
   "outputs": [
    {
     "name": "stdout",
     "output_type": "stream",
     "text": [
      "Using matplotlib backend: TkAgg\n"
     ]
    }
   ],
   "source": [
    "from math import sqrt, log, pi, ceil, floor\n",
    "\n",
    "import matplotlib.pyplot as plt\n",
    "plt.rcParams[\"font.family\"] = \"Ubuntu Mono\"\n",
    "plt.rcParams['font.size'] = 9\n",
    "\n",
    "%matplotlib auto\n",
    "\n",
    "from earthing import *"
   ]
  },
  {
   "cell_type": "code",
   "execution_count": 2,
   "id": "76f6960d",
   "metadata": {},
   "outputs": [],
   "source": [
    "# define i/p parameters\n",
    "width = 0.01\n",
    "radius_rod = 0.016\n",
    "length = 3.6\n",
    "rho = 75\n",
    "xlim=(-5, 35)\n",
    "ylim=(-5, 25)\n",
    "zlim=(-5, 2)\n",
    "grid = (100,100)\n",
    "delta=0.2\n",
    "Ig = 1477\n",
    "\n",
    "# Define network\n",
    "network = Network(rho, Ig)\n",
    "network.add_mesh([0,0,-0.6], 30, 20, 2, 4, width)\n",
    "network.add_rod([0,0,-0.6], radius_rod, length)\n",
    "network.add_rod([10,0,-0.6], radius_rod, length)\n",
    "network.add_rod([20,0,-0.6], radius_rod, length)\n",
    "network.add_rod([30,0,-0.6], radius_rod, length)\n",
    "network.add_rod([0,20,-0.6], radius_rod, length)\n",
    "network.add_rod([10,20,-0.6], radius_rod, length)\n",
    "network.add_rod([20,20,-0.6], radius_rod, length)\n",
    "network.add_rod([30,20,-0.6], radius_rod, length)\n",
    "network.add_rod([0,10,-0.6], radius_rod, length)\n",
    "network.add_rod([30,10,-0.6], radius_rod, length)"
   ]
  },
  {
   "cell_type": "code",
   "execution_count": 3,
   "id": "f19d1a91-1bce-48e1-a0bb-60b65419d932",
   "metadata": {},
   "outputs": [
    {
     "name": "stderr",
     "output_type": "stream",
     "text": [
      "/home/eee/Projects/Earthing/earthing/__init__.py:692: RuntimeWarning: divide by zero encountered in true_divide\n",
      "  COEF = self.rho/(4*pi*a)*np.arctan(a/ALPHA)\n"
     ]
    }
   ],
   "source": [
    "# Solve network\n",
    "network.generate_model_fast(delta)\n",
    "network.plot_geometry_3d(xlim=xlim, ylim=ylim, zlim=zlim, ground=True, ground_pot=False, current_distribution=False)"
   ]
  },
  {
   "cell_type": "code",
   "execution_count": 4,
   "id": "73747f9c-22c0-41ea-a7c0-e57b15938c84",
   "metadata": {},
   "outputs": [
    {
     "name": "stdout",
     "output_type": "stream",
     "text": [
      "Value of earth resistance =  [1.529]  Ohm\n"
     ]
    }
   ],
   "source": [
    "network.solve_model()\n",
    "res = network.get_resistance()\n",
    "# display results\n",
    "print('Value of earth resistance = ', str(res),' Ohm')"
   ]
  },
  {
   "cell_type": "code",
   "execution_count": 5,
   "id": "2829caa9-771f-4879-b709-f94510013982",
   "metadata": {},
   "outputs": [],
   "source": [
    "network.solve_surface_potential_fast(grid=grid, xlim=xlim, ylim=ylim)\n",
    "network.plot_geometry_3d(xlim=xlim, ylim=ylim, zlim=zlim, ground=False, ground_pot=True, current_distribution=True)\n",
    "network.plot_surface_potential(xlim=xlim, ylim=ylim, grid_spacing=5)"
   ]
  },
  {
   "cell_type": "code",
   "execution_count": 6,
   "id": "bac55bde-4989-4bd1-81ce-aa14a75e8d03",
   "metadata": {},
   "outputs": [
    {
     "data": {
      "text/plain": [
       "array([2258.419])"
      ]
     },
     "execution_count": 6,
     "metadata": {},
     "output_type": "execute_result"
    }
   ],
   "source": [
    "network.gpr()"
   ]
  },
  {
   "cell_type": "code",
   "execution_count": 7,
   "id": "21fe8ba0-efab-48c1-ace1-489da1e4fc64",
   "metadata": {
    "tags": []
   },
   "outputs": [
    {
     "name": "stdout",
     "output_type": "stream",
     "text": [
      "818.648  @  [4.6 6.9]\n"
     ]
    }
   ],
   "source": [
    "# Mesh voltage\n",
    "polygon = [(0,0),(30,0),(30,20),(0,20),(0,0)]\n",
    "Em_loc, Em = network.mesh_voltage(polygon, plot=True, grid_spacing=5)\n",
    "print(Em, ' @ ', Em_loc)"
   ]
  },
  {
   "cell_type": "code",
   "execution_count": 8,
   "id": "eff5f2fb-a48f-4fd4-aef4-57ad00f1e387",
   "metadata": {},
   "outputs": [
    {
     "name": "stdout",
     "output_type": "stream",
     "text": [
      "264.557  @  [30.008 20.012]\n"
     ]
    }
   ],
   "source": [
    "# Step voltage\n",
    "polygon = [(-1,-1),(31,-1),(31,21),(-1,21),(-1,-1)]\n",
    "Es_loc, Es = network.step_voltage(polygon, plot=True, grid_spacing=5)\n",
    "print(Es, ' @ ', Es_loc)"
   ]
  },
  {
   "cell_type": "code",
   "execution_count": null,
   "id": "60b53eb4-ab30-4c60-9952-d3ce835454d1",
   "metadata": {},
   "outputs": [],
   "source": []
  }
 ],
 "metadata": {
  "kernelspec": {
   "display_name": "Python 3 (ipykernel)",
   "language": "python",
   "name": "python3"
  },
  "language_info": {
   "codemirror_mode": {
    "name": "ipython",
    "version": 3
   },
   "file_extension": ".py",
   "mimetype": "text/x-python",
   "name": "python",
   "nbconvert_exporter": "python",
   "pygments_lexer": "ipython3",
   "version": "3.10.4"
  },
  "toc-autonumbering": false
 },
 "nbformat": 4,
 "nbformat_minor": 5
}
