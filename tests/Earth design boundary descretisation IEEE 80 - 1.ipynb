{
 "cells": [
  {
   "cell_type": "code",
   "execution_count": 1,
   "id": "e514fa90",
   "metadata": {},
   "outputs": [
    {
     "name": "stdout",
     "output_type": "stream",
     "text": [
      "Using matplotlib backend: TkAgg\n"
     ]
    }
   ],
   "source": [
    "from math import sqrt, log, pi, ceil, floor\n",
    "\n",
    "import matplotlib.pyplot as plt\n",
    "plt.rcParams[\"font.family\"] = \"Ubuntu Mono\"\n",
    "plt.rcParams['font.size'] = 9\n",
    "\n",
    "%matplotlib auto\n",
    "\n",
    "from earthing import *"
   ]
  },
  {
   "cell_type": "code",
   "execution_count": 2,
   "id": "76f6960d",
   "metadata": {},
   "outputs": [],
   "source": [
    "# define i/p parameters\n",
    "width = 0.025\n",
    "radius_rod = 0.016\n",
    "length = 3.6\n",
    "rho = 400\n",
    "xlim=(-5, 80)\n",
    "ylim=(-5, 80)\n",
    "zlim=(-5, 2)\n",
    "grid=(100,100)\n",
    "delta=2\n",
    "Ig = 1908\n",
    "\n",
    "# Define network\n",
    "network = Network(rho)\n",
    "network.add_mesh([0,0,-0.5], 70, 70, 11, 11, width)"
   ]
  },
  {
   "cell_type": "code",
   "execution_count": 3,
   "id": "483131d5-624a-4381-9539-7b6c20a581ef",
   "metadata": {},
   "outputs": [
    {
     "name": "stderr",
     "output_type": "stream",
     "text": [
      "/home/eee/Desktop/Earthing/earthing/__init__.py:543: RuntimeWarning: divide by zero encountered in true_divide\n",
      "  COEF = self.rho/(4*pi*AA)*np.arctan(AA/ALPHA)\n"
     ]
    }
   ],
   "source": [
    "# Solve network\n",
    "network.generate_model_fast(delta)\n",
    "network.plot_geometry_3d(xlim=xlim, ylim=ylim, zlim=zlim, ground=True, ground_pot=False, current_distribution=False)"
   ]
  },
  {
   "cell_type": "code",
   "execution_count": 4,
   "id": "6e98dc59-bd74-437a-afe4-7d0a6d119d71",
   "metadata": {},
   "outputs": [
    {
     "name": "stdout",
     "output_type": "stream",
     "text": [
      "Value of earth resistance =  2.9500013640153093  Ohm\n"
     ]
    }
   ],
   "source": [
    "network.solve_model()\n",
    "res = network.get_resistance()\n",
    "# display results\n",
    "print('Value of earth resistance = ', str(res),' Ohm')"
   ]
  },
  {
   "cell_type": "code",
   "execution_count": 5,
   "id": "4e7bde92-c55d-40b6-b9ee-d5ff0e0dffd8",
   "metadata": {},
   "outputs": [],
   "source": [
    "network.solve_surface_potential_fast(Ig, grid=grid, xlim=xlim, ylim=ylim)\n",
    "network.plot_geometry_3d(xlim=xlim, ylim=ylim, zlim=zlim, ground=False, ground_pot=True)\n",
    "network.plot_surface_potential(xlim=xlim, ylim=ylim)"
   ]
  },
  {
   "cell_type": "code",
   "execution_count": 6,
   "id": "03431906-76fa-4f77-a023-c850730232d5",
   "metadata": {},
   "outputs": [
    {
     "data": {
      "text/plain": [
       "5628.60260254121"
      ]
     },
     "execution_count": 6,
     "metadata": {},
     "output_type": "execute_result"
    }
   ],
   "source": [
    "network.gpr(Ig)"
   ]
  },
  {
   "cell_type": "code",
   "execution_count": 15,
   "id": "af923d3d-478e-44a4-bf18-108fd0171a03",
   "metadata": {},
   "outputs": [
    {
     "data": {
      "text/plain": [
       "158.51103706471213"
      ]
     },
     "execution_count": 15,
     "metadata": {},
     "output_type": "execute_result"
    }
   ],
   "source": [
    "# Touch voltage at fence 2m away\n",
    "network.get_point_potential([0,-2,0], Ig) - network.get_point_potential([0,-3,0], Ig)"
   ]
  },
  {
   "cell_type": "code",
   "execution_count": 13,
   "id": "42d0b186-b637-46ec-b506-ae43c6aa8be1",
   "metadata": {},
   "outputs": [
    {
     "data": {
      "text/plain": [
       "1620.6820224986495"
      ]
     },
     "execution_count": 13,
     "metadata": {},
     "output_type": "execute_result"
    }
   ],
   "source": [
    "# Mesh voltage\n",
    "network.gpr(Ig) - network.get_point_potential([70/(11-1)/2, 70/(11-1)/2,0], Ig)"
   ]
  },
  {
   "cell_type": "code",
   "execution_count": 14,
   "id": "b191517f-cc7f-44da-8ead-962422d32321",
   "metadata": {},
   "outputs": [
    {
     "data": {
      "text/plain": [
       "379.12418987315505"
      ]
     },
     "execution_count": 14,
     "metadata": {},
     "output_type": "execute_result"
    }
   ],
   "source": [
    "# Step voltage\n",
    "loc = np.array([-70, -70, 0])\n",
    "loc = loc/norm(loc)\n",
    "network.get_point_potential([0,0,0], Ig) - network.get_point_potential(loc, Ig)"
   ]
  },
  {
   "cell_type": "code",
   "execution_count": null,
   "id": "d274a892-7c0c-4cc3-8ce4-57564111c73c",
   "metadata": {},
   "outputs": [],
   "source": []
  }
 ],
 "metadata": {
  "kernelspec": {
   "display_name": "Python 3 (ipykernel)",
   "language": "python",
   "name": "python3"
  },
  "language_info": {
   "codemirror_mode": {
    "name": "ipython",
    "version": 3
   },
   "file_extension": ".py",
   "mimetype": "text/x-python",
   "name": "python",
   "nbconvert_exporter": "python",
   "pygments_lexer": "ipython3",
   "version": "3.10.4"
  },
  "toc-autonumbering": false
 },
 "nbformat": 4,
 "nbformat_minor": 5
}
