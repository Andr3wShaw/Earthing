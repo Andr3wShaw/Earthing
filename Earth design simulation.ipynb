{
 "cells": [
  {
   "cell_type": "code",
   "execution_count": 1,
   "id": "e514fa90",
   "metadata": {},
   "outputs": [
    {
     "name": "stdout",
     "output_type": "stream",
     "text": [
      "Using matplotlib backend: TkAgg\n"
     ]
    }
   ],
   "source": [
    "from math import sqrt, log, pi, ceil, floor\n",
    "import numpy as np\n",
    "from numpy.linalg import norm, solve\n",
    "import matplotlib.pyplot as plt\n",
    "plt.rcParams[\"font.family\"] = \"Ubuntu Mono\"\n",
    "plt.rcParams['font.size'] = 9\n",
    "\n",
    "%matplotlib auto\n",
    "\n",
    "from earthing import *"
   ]
  },
  {
   "cell_type": "code",
   "execution_count": 2,
   "id": "76f6960d",
   "metadata": {
    "scrolled": false
   },
   "outputs": [
    {
     "name": "stderr",
     "output_type": "stream",
     "text": [
      "/home/eee/Projects/Earthing/earthing/__init__.py:698: RuntimeWarning: divide by zero encountered in true_divide\n",
      "  COEF = self.rho/(4*pi*a)*np.arctan(a/ALPHA)\n"
     ]
    }
   ],
   "source": [
    "# define i/p parameters\n",
    "strip_width = 0.025\n",
    "radius_rod = 0.04  # Vertical earth strip for earth plate\n",
    "h = 0.5\n",
    "h_p = 3\n",
    "Lx = 10\n",
    "Ly = 5\n",
    "Lr = 3.6\n",
    "Nx = 2 \n",
    "Ny = 2\n",
    "\n",
    "rho = 100\n",
    "xlim=(-5, Lx+5)\n",
    "ylim=(-5, Ly+5)\n",
    "zlim=(-5, 2)\n",
    "grid=(50,50)\n",
    "delta=0.2\n",
    "Ig = 1000\n",
    "\n",
    "# Define network\n",
    "network1 = Network(rho, Ig)\n",
    "network1.add_mesh([0,0,-h], Lx, Ly, Nx, Ny, strip_width)\n",
    "network1.add_rod([0,0,-h], radius_rod, Lr)\n",
    "network1.add_rod([Lx,0,-h], radius_rod, Lr)\n",
    "network1.add_rod([0,Ly,-h], radius_rod, Lr)\n",
    "network1.add_rod([Lx,Ly,-h], radius_rod, Lr)\n",
    "\n",
    "# Add fence ring and electrode\n",
    "network2 = Network(rho, 0)\n",
    "network2.add_mesh([-2,-2,-h], Lx+4, Ly+4, 2, 2, strip_width)\n",
    "network2.add_rod([-2,-2,-h], radius_rod, Lr)\n",
    "\n",
    "network = network1 + network2\n",
    "\n",
    "# Alternate network elements\n",
    "# network.add_plate([0,0,-h_p], 0.6, 0.6, n_cap=[0,1,0], h_cap=[0,0,1])  # Vertical plate\n",
    "# network.add_strip([0,0,-h], [Lx,Ly,-h], strip_width)  # Strip\n",
    "\n",
    "# Generate model\n",
    "network.generate_model_fast(delta)\n",
    "network.plot_geometry_3d(xlim=xlim, ylim=ylim, zlim=zlim)"
   ]
  },
  {
   "cell_type": "code",
   "execution_count": 3,
   "id": "f7457827-7c26-4b5b-a2b1-a7f5df6298c8",
   "metadata": {},
   "outputs": [
    {
     "name": "stdout",
     "output_type": "stream",
     "text": [
      "Value of earth resistance =  [4.902   inf]  Ohm\n"
     ]
    },
    {
     "name": "stderr",
     "output_type": "stream",
     "text": [
      "/home/eee/Projects/Earthing/earthing/__init__.py:736: RuntimeWarning: divide by zero encountered in true_divide\n",
      "  res = self.V / self.Ig\n"
     ]
    }
   ],
   "source": [
    "# Solve network\n",
    "network.solve_model()\n",
    "res = network.get_resistance()\n",
    "print('Value of earth resistance = ', str(res),' Ohm')"
   ]
  },
  {
   "cell_type": "code",
   "execution_count": 4,
   "id": "c1073280-2364-43c7-b884-db4a8df2d6e9",
   "metadata": {},
   "outputs": [],
   "source": [
    "# Plot surface potential\n",
    "network.solve_surface_potential_fast(grid=grid, xlim=xlim, ylim=ylim)\n",
    "network.plot_geometry_3d(xlim=xlim, ylim=ylim, zlim=zlim, ground=False, ground_pot=True, current_distribution=True)\n",
    "network.plot_surface_potential(xlim=xlim, ylim=ylim, plot_type='fill')\n",
    "# network.plot_surface_potential(xlim=xlim, ylim=ylim, plot_type='contour')  # Contour plot\n",
    "# network.plot_surface_potential(xlim=xlim, ylim=ylim, plot_type='values')  # Value plot"
   ]
  },
  {
   "cell_type": "code",
   "execution_count": 5,
   "id": "f3672c00-ca97-4e3b-8ada-186db5966c06",
   "metadata": {},
   "outputs": [
    {
     "data": {
      "text/plain": [
       "array([4902.068, 2512.788])"
      ]
     },
     "execution_count": 5,
     "metadata": {},
     "output_type": "execute_result"
    }
   ],
   "source": [
    "network.gpr()"
   ]
  },
  {
   "cell_type": "code",
   "execution_count": 6,
   "id": "4b18a55d-8846-4537-989d-419c28a6c467",
   "metadata": {
    "tags": []
   },
   "outputs": [
    {
     "name": "stdout",
     "output_type": "stream",
     "text": [
      "1619.56  @  [5.  2.5]\n"
     ]
    }
   ],
   "source": [
    "# Mesh voltage\n",
    "polygon = [(0,0),(Lx,0),(Lx,Ly),(0,Ly),(0,0)]\n",
    "Em_loc, Em = network.mesh_voltage(polygon, plot=True, subnet=0)\n",
    "print(Em, ' @ ', Em_loc)"
   ]
  },
  {
   "cell_type": "code",
   "execution_count": 7,
   "id": "d20bc311-1bf5-4090-8c6e-93db46ef95df",
   "metadata": {},
   "outputs": [
    {
     "name": "stdout",
     "output_type": "stream",
     "text": [
      "835.448  @  [9.961 4.973]\n"
     ]
    }
   ],
   "source": [
    "# Step voltage\n",
    "polygon = rectangle((-3,-3), Lx+6, Ly+6)\n",
    "Es_loc, Es = network.step_voltage(polygon, plot=True)\n",
    "print(Es, ' @ ', Es_loc)"
   ]
  },
  {
   "cell_type": "code",
   "execution_count": 8,
   "id": "d24ed67e-b8c2-427d-b945-a165ee61b664",
   "metadata": {},
   "outputs": [
    {
     "data": {
      "text/plain": [
       "447.86775373126284"
      ]
     },
     "execution_count": 8,
     "metadata": {},
     "output_type": "execute_result"
    }
   ],
   "source": [
    "# Touch voltage at fence\n",
    "network.get_point_potential((-2,-2,0)) - network.get_point_potential((-3,-3,0))"
   ]
  },
  {
   "cell_type": "code",
   "execution_count": null,
   "id": "33c965a3",
   "metadata": {},
   "outputs": [],
   "source": []
  }
 ],
 "metadata": {
  "kernelspec": {
   "display_name": "Python 3 (ipykernel)",
   "language": "python",
   "name": "python3"
  },
  "language_info": {
   "codemirror_mode": {
    "name": "ipython",
    "version": 3
   },
   "file_extension": ".py",
   "mimetype": "text/x-python",
   "name": "python",
   "nbconvert_exporter": "python",
   "pygments_lexer": "ipython3",
   "version": "3.10.4"
  },
  "toc-autonumbering": false
 },
 "nbformat": 4,
 "nbformat_minor": 5
}
