{
 "cells": [
  {
   "cell_type": "code",
   "execution_count": 5,
   "id": "e514fa90",
   "metadata": {},
   "outputs": [
    {
     "name": "stdout",
     "output_type": "stream",
     "text": [
      "Using matplotlib backend: TkAgg\n"
     ]
    }
   ],
   "source": [
    "from math import sqrt, log, pi, ceil, floor\n",
    "\n",
    "import matplotlib.pyplot as plt\n",
    "plt.rcParams[\"font.family\"] = \"Ubuntu Mono\"\n",
    "plt.rcParams['font.size'] = 9\n",
    "\n",
    "%matplotlib auto\n",
    "\n",
    "from earthing import *"
   ]
  },
  {
   "cell_type": "code",
   "execution_count": 15,
   "id": "76f6960d",
   "metadata": {},
   "outputs": [],
   "source": [
    "# define i/p parameters\n",
    "strip_width = 0.025\n",
    "strip_depth = 0.005\n",
    "strip_eq_radius = (strip_width + strip_depth)*2/(2*pi)  # Horizontal earth strip\n",
    "radius_rod = 0.04  # Vertical earth strip for earth plate\n",
    "h = 0.5\n",
    "h_p = 3\n",
    "Lx = 10\n",
    "Ly = 5\n",
    "Lr = 3.6\n",
    "Nx = 2 \n",
    "Ny = 2\n",
    "Nr = 4\n",
    "Le = (Lx + Ly)*2\n",
    "S = (Lx + Ly)*2 / Lr\n",
    "\n",
    "rho = 100\n",
    "xlim=(-5, Lx+5)\n",
    "ylim=(-5, Ly+5)\n",
    "zlim=(-5, 2)\n",
    "grid=(100,100)\n",
    "delta=0.2\n",
    "Ig = 1000\n",
    "\n",
    "# Define network\n",
    "network = Network(rho)\n",
    "network.add_mesh([0,0,-h], Lx, Ly, Nx, Ny, strip_width)\n",
    "network.add_rod([0,0,-h], radius_rod, Lr)\n",
    "network.add_rod([Lx,0,-h], radius_rod, Lr)\n",
    "network.add_rod([0,Ly,-h], radius_rod, Lr)\n",
    "network.add_rod([Lx,Ly,-h], radius_rod, Lr)\n",
    "# network.add_plate([0,0,-h_p], rho, 0.6, 0.6, n_cap=[0,1,0], h_cap=[0,0,1])  # Vertical plate\n",
    "# network.add_plate([Lx,Ly,-h_p], rho, 0.6, 0.6, n_cap=[0,1,0], h_cap=[0,0,1])  # Vertical plate"
   ]
  },
  {
   "cell_type": "code",
   "execution_count": 16,
   "id": "f7457827-7c26-4b5b-a2b1-a7f5df6298c8",
   "metadata": {},
   "outputs": [],
   "source": [
    "# Solve network\n",
    "network.generate_model_fast(delta)\n",
    "network.plot_geometry_3d(xlim=xlim, ylim=ylim, zlim=zlim, ground=True, ground_pot=False, current_distribution=False)"
   ]
  },
  {
   "cell_type": "code",
   "execution_count": 18,
   "id": "707b22d9-7364-47c8-b00e-a717ff85ddbb",
   "metadata": {},
   "outputs": [
    {
     "name": "stdout",
     "output_type": "stream",
     "text": [
      "Value of earth resistance =  4.926453776824107  Ohm\n"
     ]
    }
   ],
   "source": [
    "network.solve_model()\n",
    "res = network.get_resistance()\n",
    "# display results\n",
    "print('Value of earth resistance = ', str(res),' Ohm')"
   ]
  },
  {
   "cell_type": "code",
   "execution_count": 29,
   "id": "c1073280-2364-43c7-b884-db4a8df2d6e9",
   "metadata": {},
   "outputs": [],
   "source": [
    "network.solve_surface_potential_fast(Ig, grid=grid, xlim=xlim, ylim=ylim)\n",
    "network.plot_geometry_3d(xlim=xlim, ylim=ylim, zlim=zlim, ground=False, ground_pot=True)\n",
    "network.plot_surface_potential(xlim=xlim, ylim=ylim)"
   ]
  },
  {
   "cell_type": "code",
   "execution_count": 30,
   "id": "f3672c00-ca97-4e3b-8ada-186db5966c06",
   "metadata": {},
   "outputs": [
    {
     "data": {
      "text/plain": [
       "4926.453776824107"
      ]
     },
     "execution_count": 30,
     "metadata": {},
     "output_type": "execute_result"
    }
   ],
   "source": [
    "network.gpr(Ig)"
   ]
  },
  {
   "cell_type": "code",
   "execution_count": 31,
   "id": "d24ed67e-b8c2-427d-b945-a165ee61b664",
   "metadata": {},
   "outputs": [
    {
     "data": {
      "text/plain": [
       "363.573446445444"
      ]
     },
     "execution_count": 31,
     "metadata": {},
     "output_type": "execute_result"
    }
   ],
   "source": [
    "# Touch voltage at fence 2m away\n",
    "network.get_point_potential([0,-2,0], Ig) - network.get_point_potential([0,-3,0], Ig)"
   ]
  },
  {
   "cell_type": "code",
   "execution_count": 27,
   "id": "68d7332d-d8ad-4ff6-8b7a-63987dd5885e",
   "metadata": {},
   "outputs": [
    {
     "data": {
      "text/plain": [
       "1612.771675864658"
      ]
     },
     "execution_count": 27,
     "metadata": {},
     "output_type": "execute_result"
    }
   ],
   "source": [
    "# Mesh voltage\n",
    "network.gpr(Ig) - network.get_point_potential([Lx/(Nx-1)/2,Ly/(Ny-1)/2,0], Ig)"
   ]
  },
  {
   "cell_type": "code",
   "execution_count": 28,
   "id": "a4a9b568-fb8f-4b50-a660-75f834fe6a7e",
   "metadata": {},
   "outputs": [
    {
     "data": {
      "text/plain": [
       "820.0212645864322"
      ]
     },
     "execution_count": 28,
     "metadata": {},
     "output_type": "execute_result"
    }
   ],
   "source": [
    "# Step voltage\n",
    "loc = np.array([-Lx, -Ly, 0])\n",
    "loc = loc/norm(loc)\n",
    "network.get_point_potential([0,0,0], Ig) - network.get_point_potential(loc, Ig)"
   ]
  },
  {
   "cell_type": "code",
   "execution_count": null,
   "id": "f0d2fcc2-583f-41ff-9bc5-8303a71cf8d1",
   "metadata": {},
   "outputs": [],
   "source": []
  }
 ],
 "metadata": {
  "kernelspec": {
   "display_name": "Python 3 (ipykernel)",
   "language": "python",
   "name": "python3"
  },
  "language_info": {
   "codemirror_mode": {
    "name": "ipython",
    "version": 3
   },
   "file_extension": ".py",
   "mimetype": "text/x-python",
   "name": "python",
   "nbconvert_exporter": "python",
   "pygments_lexer": "ipython3",
   "version": "3.10.4"
  },
  "toc-autonumbering": false
 },
 "nbformat": 4,
 "nbformat_minor": 5
}
